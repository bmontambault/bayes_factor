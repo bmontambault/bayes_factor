{
 "metadata": {
  "language_info": {
   "codemirror_mode": {
    "name": "ipython",
    "version": 3
   },
   "file_extension": ".py",
   "mimetype": "text/x-python",
   "name": "python",
   "nbconvert_exporter": "python",
   "pygments_lexer": "ipython3",
   "version": "3.8.8"
  },
  "orig_nbformat": 2,
  "kernelspec": {
   "name": "python388jvsc74a57bd0cde6e56addc2bdd4044a9df2edb816c3fb87d124527624b6c408940640c13de7",
   "display_name": "Python 3.8.8 64-bit ('pixal_dev': conda)"
  }
 },
 "nbformat": 4,
 "nbformat_minor": 2,
 "cells": [
  {
   "cell_type": "code",
   "execution_count": 1,
   "metadata": {},
   "outputs": [],
   "source": [
    "import numpy as np\n",
    "from context import bayes_factor\n",
    "from bayes_factor.bayes_factor import BayesFactor\n",
    "from bayes_factor.utils import sample_nominal, sample_numeric"
   ]
  },
  {
   "cell_type": "code",
   "execution_count": 2,
   "metadata": {},
   "outputs": [],
   "source": [
    "n = 1000\n",
    "k = 5\n",
    "mu1 = 0\n",
    "std1 = 1\n",
    "mu2 = 10\n",
    "std2 = 1\n",
    "\n",
    "p = np.random.dirichlet(np.ones(k))\n",
    "data, dtypes = sample_nominal(p, n, 1)\n",
    "data, dtypes = sample_numeric(mu1, std1, n, 1, data, dtypes)\n",
    "d1, dtypes1 = sample_numeric(mu2, std2, n, ['numeric_0'], data, dtypes, mask=data['nominal_0'] == '1')"
   ]
  },
  {
   "cell_type": "code",
   "execution_count": 3,
   "metadata": {},
   "outputs": [
    {
     "output_type": "execute_result",
     "data": {
      "text/plain": [
       "           numeric_0\n",
       "nominal_0           \n",
       "0          -0.160113\n",
       "1          10.007618\n",
       "2          -0.006243\n",
       "3          -0.089463\n",
       "4          -0.079954"
      ],
      "text/html": "<div>\n<style scoped>\n    .dataframe tbody tr th:only-of-type {\n        vertical-align: middle;\n    }\n\n    .dataframe tbody tr th {\n        vertical-align: top;\n    }\n\n    .dataframe thead th {\n        text-align: right;\n    }\n</style>\n<table border=\"1\" class=\"dataframe\">\n  <thead>\n    <tr style=\"text-align: right;\">\n      <th></th>\n      <th>numeric_0</th>\n    </tr>\n    <tr>\n      <th>nominal_0</th>\n      <th></th>\n    </tr>\n  </thead>\n  <tbody>\n    <tr>\n      <th>0</th>\n      <td>-0.160113</td>\n    </tr>\n    <tr>\n      <th>1</th>\n      <td>10.007618</td>\n    </tr>\n    <tr>\n      <th>2</th>\n      <td>-0.006243</td>\n    </tr>\n    <tr>\n      <th>3</th>\n      <td>-0.089463</td>\n    </tr>\n    <tr>\n      <th>4</th>\n      <td>-0.079954</td>\n    </tr>\n  </tbody>\n</table>\n</div>"
     },
     "metadata": {},
     "execution_count": 3
    }
   ],
   "source": [
    "data.groupby('nominal_0').mean()"
   ]
  },
  {
   "cell_type": "code",
   "execution_count": 4,
   "metadata": {},
   "outputs": [],
   "source": [
    "bf = BayesFactor(dtypes)"
   ]
  },
  {
   "cell_type": "code",
   "execution_count": 5,
   "metadata": {},
   "outputs": [
    {
     "output_type": "execute_result",
     "data": {
      "text/plain": [
       "1209.0514522987646"
      ]
     },
     "metadata": {},
     "execution_count": 5
    }
   ],
   "source": [
    "bf.bayes_factor(data, 'nominal_0', 'numeric_0')"
   ]
  }
 ]
}