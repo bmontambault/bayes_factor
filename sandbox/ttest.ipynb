{
 "metadata": {
  "language_info": {
   "codemirror_mode": {
    "name": "ipython",
    "version": 3
   },
   "file_extension": ".py",
   "mimetype": "text/x-python",
   "name": "python",
   "nbconvert_exporter": "python",
   "pygments_lexer": "ipython3",
   "version": "3.8.8"
  },
  "orig_nbformat": 2,
  "kernelspec": {
   "name": "python388jvsc74a57bd08ab37c6bc4880e970457131618bf8652b903e123d128782f034b2afed037d726",
   "display_name": "Python 3.8.8 64-bit ('bayes_factor_dev': conda)"
  }
 },
 "nbformat": 4,
 "nbformat_minor": 2,
 "cells": [
  {
   "cell_type": "code",
   "execution_count": 1,
   "metadata": {},
   "outputs": [],
   "source": [
    "from context import bayes_factor\n",
    "from bayes_factor.bayes_factor import BayesFactor\n",
    "from bayes_factor.utils import sample_binary, sample_numeric"
   ]
  },
  {
   "cell_type": "code",
   "execution_count": 2,
   "metadata": {},
   "outputs": [],
   "source": [
    "n = 1000\n",
    "p = .5\n",
    "mu1 = 0\n",
    "std1 = 1\n",
    "mu2 = 2\n",
    "std2 = 1\n",
    "\n",
    "data, dtypes = sample_binary(p, n, 1)\n",
    "data, dtypes = sample_numeric(mu1, std1, n, 1, data, dtypes)\n",
    "data, dtypes = sample_numeric(mu2, std2, n, ['numeric_0'], data, dtypes, mask=data['binary_0'].astype(bool))"
   ]
  },
  {
   "cell_type": "code",
   "execution_count": 3,
   "metadata": {},
   "outputs": [
    {
     "output_type": "execute_result",
     "data": {
      "text/plain": [
       "binary_0\n",
       "0    0.072660\n",
       "1    1.922525\n",
       "Name: numeric_0, dtype: float64"
      ]
     },
     "metadata": {},
     "execution_count": 3
    }
   ],
   "source": [
    "data.groupby('binary_0').numeric_0.mean()"
   ]
  },
  {
   "cell_type": "code",
   "execution_count": 4,
   "metadata": {},
   "outputs": [],
   "source": [
    "bf = BayesFactor(dtypes)"
   ]
  },
  {
   "cell_type": "code",
   "execution_count": 5,
   "metadata": {},
   "outputs": [
    {
     "output_type": "execute_result",
     "data": {
      "text/plain": [
       "298.19620632253185"
      ]
     },
     "metadata": {},
     "execution_count": 5
    }
   ],
   "source": [
    "bf.bayes_factor(data, 'binary_0', 'numeric_0')"
   ]
  }
 ]
}